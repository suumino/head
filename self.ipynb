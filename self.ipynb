{
  "nbformat": 4,
  "nbformat_minor": 0,
  "metadata": {
    "colab": {
      "name": "Colaboratory에 오신 것을 환영합니다",
      "provenance": [],
      "collapsed_sections": [],
      "include_colab_link": true
    },
    "kernelspec": {
      "display_name": "Python 3",
      "name": "python3"
    }
  },
  "cells": [
    {
      "cell_type": "markdown",
      "metadata": {
        "id": "view-in-github",
        "colab_type": "text"
      },
      "source": [
        "<a href=\"https://colab.research.google.com/github/suumino/head/blob/main/self.ipynb\" target=\"_parent\"><img src=\"https://colab.research.google.com/assets/colab-badge.svg\" alt=\"Open In Colab\"/></a>"
      ]
    },
    {
      "cell_type": "code",
      "metadata": {
        "id": "ssKZUuR_Umzc"
      },
      "source": [
        "def change(x, i , j):\n",
        "  x[i], x[j] = x[j], x[i]\n",
        "\n",
        "def Select(x, l, r):\n",
        "  select_val = x[l]\n",
        "  select_idx = l\n",
        "  while l <= r:\n",
        "    while l <= r and x[l] <= select_val:\n",
        "      l += 1\n",
        "    while l <= r and x[l] >= select_val:\n",
        "      r -= 1\n",
        "    if l <= r:\n",
        "      change(x, l, r)\n",
        "      l =+ 1\n",
        "      r -= 1\n",
        "    change(x, select_idx, r)\n",
        "    return r\n",
        "\n",
        "def quickSort(x, pivotMethod = Select) :\n",
        "  def Qsort(x, first, last):\n",
        "    if first < last:\n",
        "      splitP = pivoMethod(x, first, last)\n",
        "      Qsort(x, first, splitP-1)\n",
        "      Qsort(x, splitP+1, last)\n",
        "  Qsort(x, 0, len(x)-1)\n",
        "\n",
        "  x = [5, 2, 8, 6, 1, 9, 3, 7]\n",
        "  quickSort(x)\n",
        "  print(x)"
      ],
      "execution_count": 5,
      "outputs": []
    },
    {
      "cell_type": "code",
      "metadata": {
        "id": "kEM1pgHtWedd",
        "outputId": "d05bd658-f360-4357-b76f-4cd9035c8f48",
        "colab": {
          "base_uri": "https://localhost:8080/"
        }
      },
      "source": [
        "def Quick_sort(a):\n",
        "  n = len(a)\n",
        "  if n <= 1:\n",
        "    return a\n",
        "  pivot = a[-1]\n",
        "  g_left=[]\n",
        "  g_right=[]\n",
        "  for i in range(0, n-1):\n",
        "    if a[i] <= pivot:\n",
        "      g_left.append(a[i])\n",
        "    else: g_right.append(a[i])\n",
        "    print(g_left, g_right)\n",
        "  return Quick_sort(g_left) + [pivot] + Quick_sort(g_right)\n",
        "\n",
        "d = [8, 12, 1, 9, 102, 25, 32, 98, 31]\n",
        "print(Quick_sort(d))\n"
      ],
      "execution_count": 12,
      "outputs": [
        {
          "output_type": "stream",
          "text": [
            "[8] []\n",
            "[8, 12] []\n",
            "[8, 12, 1] []\n",
            "[8, 12, 1, 9] []\n",
            "[8, 12, 1, 9] [102]\n",
            "[8, 12, 1, 9, 25] [102]\n",
            "[8, 12, 1, 9, 25] [102, 32]\n",
            "[8, 12, 1, 9, 25] [102, 32, 98]\n",
            "[8] []\n",
            "[8, 12] []\n",
            "[8, 12, 1] []\n",
            "[8, 12, 1, 9] []\n",
            "[8] []\n",
            "[8] [12]\n",
            "[8, 1] [12]\n",
            "[] [8]\n",
            "[] [102]\n",
            "[32] [102]\n",
            "[1, 8, 9, 12, 25, 31, 32, 98, 102]\n"
          ],
          "name": "stdout"
        }
      ]
    },
    {
      "cell_type": "code",
      "metadata": {
        "id": "f5ygL3hKX29b",
        "outputId": "f2455e6f-a7ac-4405-a4a8-b428bdf20fab",
        "colab": {
          "base_uri": "https://localhost:8080/"
        }
      },
      "source": [
        "def rec_func(i):\n",
        "  print('hi')\n",
        "  if i<10:\n",
        "    rec_func(i+1)\n",
        "\n",
        "  \n",
        "rec_func(0)"
      ],
      "execution_count": 13,
      "outputs": [
        {
          "output_type": "stream",
          "text": [
            "hi\n",
            "hi\n",
            "hi\n",
            "hi\n",
            "hi\n",
            "hi\n",
            "hi\n",
            "hi\n",
            "hi\n",
            "hi\n",
            "hi\n"
          ],
          "name": "stdout"
        }
      ]
    },
    {
      "cell_type": "markdown",
      "metadata": {
        "id": "hhcyQyi5mQF5"
      },
      "source": [
        ""
      ]
    },
    {
      "cell_type": "code",
      "metadata": {
        "id": "ZG_4FZ9Fox4D",
        "outputId": "f7e54100-54b8-4cc7-fce8-efff0b35a7cd",
        "colab": {
          "base_uri": "https://localhost:8080/"
        }
      },
      "source": [
        "def add(num):\n",
        "  if num == 1:\n",
        "    return 1\n",
        "  else:\n",
        "    return num + add(num-1)\n",
        "\n",
        "add(10)"
      ],
      "execution_count": 48,
      "outputs": [
        {
          "output_type": "execute_result",
          "data": {
            "text/plain": [
              "55"
            ]
          },
          "metadata": {
            "tags": []
          },
          "execution_count": 48
        }
      ]
    },
    {
      "cell_type": "code",
      "metadata": {
        "id": "tyF_NC5Bo_Na"
      },
      "source": [
        ""
      ],
      "execution_count": null,
      "outputs": []
    }
  ]
}