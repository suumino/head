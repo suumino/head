{
  "nbformat": 4,
  "nbformat_minor": 0,
  "metadata": {
    "colab": {
      "name": "Colaboratory에 오신 것을 환영합니다",
      "provenance": [],
      "collapsed_sections": [],
      "include_colab_link": true
    },
    "kernelspec": {
      "display_name": "Python 3",
      "name": "python3"
    }
  },
  "cells": [
    {
      "cell_type": "markdown",
      "metadata": {
        "id": "view-in-github",
        "colab_type": "text"
      },
      "source": [
        "<a href=\"https://colab.research.google.com/github/suumino/head/blob/main/chap04_quiz.ipynb\" target=\"_parent\"><img src=\"https://colab.research.google.com/assets/colab-badge.svg\" alt=\"Open In Colab\"/></a>"
      ]
    },
    {
      "cell_type": "code",
      "metadata": {
        "id": "370B8N58zj4n"
      },
      "source": [
        "# 퀴즈 2\r\n",
        "\r\n",
        "a = input()   # 입력받음\r\n",
        "\r\n",
        "for i in range(0, len(a)):   # 0부터 a의 길이까지\r\n",
        "  if chr(90) >= a[i] >= chr(65):   # 만약 a가 대문자이면\r\n",
        "    print(a[i].lower(), end='')   # a[i]를 소문자로 바꿔서 출력\r\n",
        "  elif chr(112) >= a[i] >= chr(91) :   # 아니면\r\n",
        "    print(a[i].upper(), end='')   # a[i]를 대문자로 바꿔서 출력\r\n",
        "\r\n",
        "# a.swapcase() 대소문자를 바꿔주는 함수 a.swapcase() 대소문자를 바꿔주는 함수"
      ],
      "execution_count": null,
      "outputs": []
    },
    {
      "cell_type": "code",
      "metadata": {
        "id": "vgL3JxaXzkub",
        "outputId": "8e6bdee8-5bca-4f56-a926-d7a01771dc5a",
        "colab": {
          "base_uri": "https://localhost:8080/"
        }
      },
      "source": [
        "# 시험\r\n",
        "\r\n",
        "a = input('Enter string:')   # 입력받음\r\n",
        "up = 0   # 대문자 숫자 셀 변수\r\n",
        "lo = 0   # 소문자 숫자 셀 변수\r\n",
        "\r\n",
        "for i in range(0, len(a)):   # 0부터 a의 길이까지\r\n",
        "  if chr(90) >= a[i] >= chr(65):   # 만약 a가 대문자이면\r\n",
        "    up += 1   # 대문자 1개 추가\r\n",
        "  elif chr(122) >= a[i] >= chr(97) :   # 아니면\r\n",
        "    lo += 1    # 소문자 1개 추가\r\n",
        "\r\n",
        "\r\n",
        "print(\"The sumber of lowercase characters is :\", lo)   # 소문자 출력\r\n",
        "print(\"The sumber of uppercase characters is :\", up)   # 대문자 출력\r\n",
        "print(a.swapcase())   # 바꿔서 출력"
      ],
      "execution_count": 34,
      "outputs": [
        {
          "output_type": "stream",
          "text": [
            "Enter string:HeLLo\n",
            "The sumber of lowercase characters is : 2\n",
            "The sumber of uppercase characters is : 3\n",
            "hEllO\n"
          ],
          "name": "stdout"
        }
      ]
    },
    {
      "cell_type": "code",
      "metadata": {
        "id": "TKSQQpKe0mKm",
        "outputId": "b375b5cc-669b-45d2-b826-346aa8a0f337",
        "colab": {
          "base_uri": "https://localhost:8080/"
        }
      },
      "source": [
        "# 시험\r\n",
        "\r\n",
        "a = input('Enter string:')   # 입력받음\r\n",
        "\r\n",
        "eng(a)   # 함수에 a 넣고 실행 시험\r\n",
        "\r\n",
        "def eng(a):   # 함수 생성\r\n",
        "  up = 0   # 대문자 숫자 셀 변수\r\n",
        "  lo = 0   # 소문자 숫자 셀 변수\r\n",
        "  for i in range(0, len(a)):   # 0부터 a의 길이까지\r\n",
        "    if a[i].isupper():   # 만약 a가 대문자이면\r\n",
        "      up += 1   # 대문자 1개 추가\r\n",
        "    elif a[i].islower() :   # 아니면\r\n",
        "      lo += 1    # 소문자 1개 추가\r\n",
        "  print(\"The sumber of lowercase characters is :\", lo)   # 소문자 출력\r\n",
        "  print(\"The sumber of uppercase characters is :\", up)   # 대문자 출력\r\n",
        "\r\n",
        "print(a.swapcase())   # 바꿔서 출력"
      ],
      "execution_count": 33,
      "outputs": [
        {
          "output_type": "stream",
          "text": [
            "Enter string:SanFouNdry\n",
            "The sumber of lowercase characters is : 7\n",
            "The sumber of uppercase characters is : 3\n",
            "sANfOUnDRY\n"
          ],
          "name": "stdout"
        }
      ]
    },
    {
      "cell_type": "code",
      "metadata": {
        "id": "r_jSee9f2WN2"
      },
      "source": [
        ""
      ],
      "execution_count": 18,
      "outputs": []
    }
  ]
}