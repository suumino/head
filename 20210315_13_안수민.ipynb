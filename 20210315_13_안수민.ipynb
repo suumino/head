{
  "nbformat": 4,
  "nbformat_minor": 0,
  "metadata": {
    "colab": {
      "name": "Colaboratory에 오신 것을 환영합니다",
      "provenance": [],
      "collapsed_sections": [],
      "include_colab_link": true
    },
    "kernelspec": {
      "display_name": "Python 3",
      "name": "python3"
    }
  },
  "cells": [
    {
      "cell_type": "markdown",
      "metadata": {
        "id": "view-in-github",
        "colab_type": "text"
      },
      "source": [
        "<a href=\"https://colab.research.google.com/github/suumino/head/blob/main/20210315_13_%EC%95%88%EC%88%98%EB%AF%BC.ipynb\" target=\"_parent\"><img src=\"https://colab.research.google.com/assets/colab-badge.svg\" alt=\"Open In Colab\"/></a>"
      ]
    },
    {
      "cell_type": "code",
      "metadata": {
        "id": "tzlgKoOtESve",
        "outputId": "6536831b-67da-4575-d03d-66bd550e3708",
        "colab": {
          "base_uri": "https://localhost:8080/"
        }
      },
      "source": [
        "# 문제 4-30\r\n",
        "\r\n",
        "import random\r\n",
        "\r\n",
        "print('숫자 맞추기 게임 시작!')\r\n",
        "print('0 부터 99 사이의 숫자를 맞춰주세요.')\r\n",
        "\r\n",
        "num = random.randint(0, 99)\r\n",
        "\r\n",
        "for i in range(6, 0, -1):\r\n",
        "  print('남은 횟수 ',i,'회, 어떤 숫자일까?:', end='')\r\n",
        "  a = int(input())\r\n",
        "  if a == num:\r\n",
        "    print((6-i) , '회만에 맞추었습니다.')\r\n",
        "  elif a > num:\r\n",
        "    print(\"더 작은 숫자입니다.\")\r\n",
        "  elif a < num:\r\n",
        "    print(\"더 큰 숫자입니다.\")"
      ],
      "execution_count": 26,
      "outputs": [
        {
          "output_type": "stream",
          "text": [
            "숫자 맞추기 게임 시작!\n",
            "0 부터 99 사이의 숫자를 맞춰주세요.\n",
            "남은 횟수  6 회, 어떤 숫자일까?:50\n",
            "더 작은 숫자입니다.\n",
            "남은 횟수  5 회, 어떤 숫자일까?:25\n",
            "더 작은 숫자입니다.\n",
            "남은 횟수  4 회, 어떤 숫자일까?:15\n",
            "더 작은 숫자입니다.\n",
            "남은 횟수  3 회, 어떤 숫자일까?:10\n",
            "더 큰 숫자입니다.\n",
            "남은 횟수  2 회, 어떤 숫자일까?:13\n",
            "더 큰 숫자입니다.\n",
            "남은 횟수  1 회, 어떤 숫자일까?:14\n",
            "5 회만에 맞추었습니다.\n"
          ],
          "name": "stdout"
        }
      ]
    },
    {
      "cell_type": "code",
      "metadata": {
        "id": "PJmT38hQEndG",
        "outputId": "2e4c19f0-1089-4e5a-e7d3-51795502dd73",
        "colab": {
          "base_uri": "https://localhost:8080/"
        }
      },
      "source": [
        "# 문제 6-1\r\n",
        "\r\n",
        "a = [0.0, 0.0, 0.0, 0.0, 0.0]\r\n",
        "\r\n",
        "for i in range(5):\r\n",
        "  print('a[',i,'] =',a[i])"
      ],
      "execution_count": 36,
      "outputs": [
        {
          "output_type": "stream",
          "text": [
            "a[ 0 ] = 0.0\n",
            "a[ 1 ] = 0.0\n",
            "a[ 2 ] = 0.0\n",
            "a[ 3 ] = 0.0\n",
            "a[ 4 ] = 0.0\n"
          ],
          "name": "stdout"
        }
      ]
    },
    {
      "cell_type": "code",
      "metadata": {
        "id": "p0gWuS8OHl4h",
        "outputId": "1da5e9ff-9c20-40eb-9451-9dcee554aedd",
        "colab": {
          "base_uri": "https://localhost:8080/"
        }
      },
      "source": [
        "# 문제 6-2\r\n",
        "\r\n",
        "a = []\r\n",
        "\r\n",
        "for i in range(5):\r\n",
        "  a.append(5-i)\r\n",
        "  print('a[',i,'] =',a[i])"
      ],
      "execution_count": 37,
      "outputs": [
        {
          "output_type": "stream",
          "text": [
            "a[ 0 ] = 5\n",
            "a[ 1 ] = 4\n",
            "a[ 2 ] = 3\n",
            "a[ 3 ] = 2\n",
            "a[ 4 ] = 1\n"
          ],
          "name": "stdout"
        }
      ]
    },
    {
      "cell_type": "code",
      "metadata": {
        "id": "m6V9Yo33IWZf",
        "outputId": "820ebd72-4fad-4424-e5f9-66ddfd0b4ddc",
        "colab": {
          "base_uri": "https://localhost:8080/"
        }
      },
      "source": [
        "# 문제 6-3\r\n",
        "\r\n",
        "a = []\r\n",
        "\r\n",
        "for i in range(5):\r\n",
        "  a.append(i*1.1)\r\n",
        "  print('a[',i,'] =',a[i])"
      ],
      "execution_count": 38,
      "outputs": [
        {
          "output_type": "stream",
          "text": [
            "a[ 0 ] = 0.0\n",
            "a[ 1 ] = 1.1\n",
            "a[ 2 ] = 2.2\n",
            "a[ 3 ] = 3.3000000000000003\n",
            "a[ 4 ] = 4.4\n"
          ],
          "name": "stdout"
        }
      ]
    },
    {
      "cell_type": "code",
      "metadata": {
        "id": "48iXL5M_IdZd",
        "outputId": "81f1511a-d107-4141-94e7-f764bd90cf79",
        "colab": {
          "base_uri": "https://localhost:8080/"
        }
      },
      "source": [
        "# 문제 6-6\r\n",
        "\r\n",
        "a = []\r\n",
        "b = int(input('요소 수: '))\r\n",
        "c = 0\r\n",
        "\r\n",
        "for i in range(b):\r\n",
        "  print('a[',i,'] = ', end='')\r\n",
        "  c = int(input())\r\n",
        "  a.append(c)\r\n",
        "print('a = ', a)"
      ],
      "execution_count": 41,
      "outputs": [
        {
          "output_type": "stream",
          "text": [
            "요소 수: 3\n",
            "a[ 0 ] = 5\n",
            "a[ 1 ] = 7\n",
            "a[ 2 ] = 8\n",
            "a =  [5, 7, 8]\n"
          ],
          "name": "stdout"
        }
      ]
    },
    {
      "cell_type": "code",
      "metadata": {
        "id": "ymiwkKnjI8QD"
      },
      "source": [
        ""
      ],
      "execution_count": null,
      "outputs": []
    }
  ]
}