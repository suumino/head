{
  "nbformat": 4,
  "nbformat_minor": 0,
  "metadata": {
    "colab": {
      "name": "Colaboratory에 오신 것을 환영합니다",
      "provenance": [],
      "collapsed_sections": [],
      "include_colab_link": true
    },
    "kernelspec": {
      "display_name": "Python 3",
      "name": "python3"
    }
  },
  "cells": [
    {
      "cell_type": "markdown",
      "metadata": {
        "id": "view-in-github",
        "colab_type": "text"
      },
      "source": [
        "<a href=\"https://colab.research.google.com/github/suumino/head/blob/main/algorithm_01.ipynb\" target=\"_parent\"><img src=\"https://colab.research.google.com/assets/colab-badge.svg\" alt=\"Open In Colab\"/></a>"
      ]
    },
    {
      "cell_type": "code",
      "metadata": {
        "id": "gK9sj97hFFdG",
        "outputId": "adce725f-aecf-4dd0-e6af-d483ad9fc169",
        "colab": {
          "base_uri": "https://localhost:8080/"
        }
      },
      "source": [
        "# ALGORITHM HOMEWORK\n",
        "\n",
        "a = str(list(range(1, 10001)))   # 1부터 10000까지의 문자를 리스트 a 에 넣는다.\n",
        "\n",
        "num = 0                          # 변수를 선언한다.\n",
        "\n",
        "for i in a:                      # a 안에서\n",
        "  num += i.count('8')            # 8이 발견될때마다 num 에 8의 개수만큼을 더해준다.\n",
        "\n",
        "print(num)                       # num을 출력한다.\n"
      ],
      "execution_count": 26,
      "outputs": [
        {
          "output_type": "stream",
          "text": [
            "4000\n"
          ],
          "name": "stdout"
        }
      ]
    },
    {
      "cell_type": "code",
      "metadata": {
        "id": "s4_eOLe_KWBP",
        "outputId": "5ca23d89-e5b8-4ccd-e363-4e9c433bce40",
        "colab": {
          "base_uri": "https://localhost:8080/"
        }
      },
      "source": [
        "# ALGORITHM HOMEWORK\n",
        "\n",
        "a = str(list(range(1, 10001)))   # 1부터 10000까지의 문자를 리스트 a 에 넣는다\n",
        "\n",
        "b.count('8')                     # 리스트중에서 8 이라는 문자의 개수를 센다."
      ],
      "execution_count": 27,
      "outputs": [
        {
          "output_type": "execute_result",
          "data": {
            "text/plain": [
              "4000"
            ]
          },
          "metadata": {
            "tags": []
          },
          "execution_count": 27
        }
      ]
    },
    {
      "cell_type": "code",
      "metadata": {
        "id": "39WYFoN8N54B"
      },
      "source": [
        ""
      ],
      "execution_count": null,
      "outputs": []
    }
  ]
}