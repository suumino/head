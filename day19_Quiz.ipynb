{
  "nbformat": 4,
  "nbformat_minor": 0,
  "metadata": {
    "colab": {
      "name": "Colaboratory에 오신 것을 환영합니다",
      "provenance": [],
      "collapsed_sections": [],
      "include_colab_link": true
    },
    "kernelspec": {
      "display_name": "Python 3",
      "name": "python3"
    }
  },
  "cells": [
    {
      "cell_type": "markdown",
      "metadata": {
        "id": "view-in-github",
        "colab_type": "text"
      },
      "source": [
        "<a href=\"https://colab.research.google.com/github/suumino/head/blob/main/day19_Quiz.ipynb\" target=\"_parent\"><img src=\"https://colab.research.google.com/assets/colab-badge.svg\" alt=\"Open In Colab\"/></a>"
      ]
    },
    {
      "cell_type": "code",
      "metadata": {
        "id": "RlSsaYJE_bSF",
        "outputId": "2df3c363-8b18-4235-b27a-2f42fff98a94",
        "colab": {
          "base_uri": "https://localhost:8080/"
        }
      },
      "source": [
        "# 퀴즈 1\r\n",
        "\r\n",
        "people = {\r\n",
        "    ('이호준', '01050442903'), \r\n",
        "    ('이호상', '01051442904'), \r\n",
        "    ('이준호', '01050342904'), \r\n",
        "    ('이호준', '01050442903'), \r\n",
        "    ('이준', '01050412904'), \r\n",
        "    ('이호', '01050443904'), \r\n",
        "    ('이호준', '01050442903')\r\n",
        "}\r\n",
        "print(len(set(people)))"
      ],
      "execution_count": 3,
      "outputs": [
        {
          "output_type": "stream",
          "text": [
            "5\n"
          ],
          "name": "stdout"
        }
      ]
    },
    {
      "cell_type": "code",
      "metadata": {
        "id": "-o3IlL46__Js",
        "outputId": "eda7f3d1-f82c-4463-f533-9243fb520588",
        "colab": {
          "base_uri": "https://localhost:8080/"
        }
      },
      "source": [
        "# 퀴즈 2\r\n",
        "\r\n",
        "a = input()   # 입력받음\r\n",
        "\r\n",
        "for i in range(0, len(a)):   # 0부터 a의 길이까지\r\n",
        "  if chr(90) >= a[i] >= chr(65):   # 만약 a가 대문자이면\r\n",
        "    print(a[i].lower(), end='')   # a[i]를 소문자로 바꿔서 출력\r\n",
        "  elif chr(112) >= a[i] >= chr(91) :   # 아니면\r\n",
        "    print(a[i].upper(), end='')   # a[i]를 대문자로 바꿔서 출력\r\n",
        "\r\n",
        "# a.swapcase() 대소문자를 바꿔주는 함수 a.swapcase() 대소문자를 바꿔주는 함수  "
      ],
      "execution_count": 31,
      "outputs": [
        {
          "output_type": "stream",
          "text": [
            "AAABBBcccddd\n",
            "aaabbbCCCDDD"
          ],
          "name": "stdout"
        }
      ]
    },
    {
      "cell_type": "code",
      "metadata": {
        "id": "OU_nbmhRNQPs",
        "outputId": "a59fe8e6-e61c-49fc-9568-34fe49b01ebe",
        "colab": {
          "base_uri": "https://localhost:8080/"
        }
      },
      "source": [
        "# 퀴즈 3\r\n",
        "\r\n",
        "a = list(map(int, input(). split()))   # 띄어쓰기를 기준으로 한개씩 수를 받아서 리스트에 넣는다\r\n",
        "\r\n",
        "print(max(a))   # 리스트 a 중에서 제일 큰 값을 출력한다"
      ],
      "execution_count": 35,
      "outputs": [
        {
          "output_type": "stream",
          "text": [
            "10 9 8 7 6 5 4 3  2 1\n",
            "10\n"
          ],
          "name": "stdout"
        }
      ]
    },
    {
      "cell_type": "code",
      "metadata": {
        "id": "w2-DH47eZVip",
        "outputId": "a70956c4-a4db-4c0e-eedf-fa553158a661",
        "colab": {
          "base_uri": "https://localhost:8080/"
        }
      },
      "source": [
        "# 퀴즈 3_max 안쓰고 풀기\r\n",
        "\r\n",
        "a = list(map(int, input(). split()))   # 수 입력 받음\r\n",
        "b = 0   # 변수 초기화\r\n",
        "\r\n",
        "for i in range(len(a)):   # a의 범위 내에서\r\n",
        "  if a[i] > b:   # 값이 b보다 크면\r\n",
        "    b = a[i]   # b는 큰값으로 교체됨\r\n",
        "\r\n",
        "print(b)   # b 출력"
      ],
      "execution_count": 36,
      "outputs": [
        {
          "output_type": "stream",
          "text": [
            "10 89 8 7 6 5 4 63 2 1\n",
            "89\n"
          ],
          "name": "stdout"
        }
      ]
    },
    {
      "cell_type": "code",
      "metadata": {
        "id": "gxaZzW8CbKli",
        "outputId": "0aabb91e-3182-4f58-e0d9-efdd88e3f72a",
        "colab": {
          "base_uri": "https://localhost:8080/"
        }
      },
      "source": [
        "# 퀴즈 3_max 안쓰고 index까지 쓰기\r\n",
        "\r\n",
        "a = list(map(int, input(). split()))   # 수입력받음\r\n",
        "\r\n",
        "print(sorted(a)[-1])   # 마지막 수 출력\r\n"
      ],
      "execution_count": 58,
      "outputs": [
        {
          "output_type": "stream",
          "text": [
            "10 9 8 7 6 5 4 3 2 1\n",
            "10\n"
          ],
          "name": "stdout"
        }
      ]
    },
    {
      "cell_type": "code",
      "metadata": {
        "id": "qmsb6K5ehOPd",
        "outputId": "0b8a73b6-120c-42cb-ff78-cabf9a4e90d4",
        "colab": {
          "base_uri": "https://localhost:8080/"
        }
      },
      "source": [
        "# 퀴즈 4\r\n",
        "\r\n",
        "student = ['강은지', '김유정', '박현서', '최성훈', '홍유진', '박지호', '권윤일', '김채리', '한지호', '김진이', '김민호', '강채연']\r\n",
        "\r\n",
        "student = sorted(student)   # 정렬\r\n",
        "\r\n",
        "for i in range(0, len(student)):   # 범위 내에서\r\n",
        "  print('번호 : %d, 이름 : %s' % ((i+1), student[i]))   # 출력"
      ],
      "execution_count": 90,
      "outputs": [
        {
          "output_type": "stream",
          "text": [
            "번호 : 1, 이름 : 강은지\n",
            "번호 : 2, 이름 : 강채연\n",
            "번호 : 3, 이름 : 권윤일\n",
            "번호 : 4, 이름 : 김민호\n",
            "번호 : 5, 이름 : 김유정\n",
            "번호 : 6, 이름 : 김진이\n",
            "번호 : 7, 이름 : 김채리\n",
            "번호 : 8, 이름 : 박지호\n",
            "번호 : 9, 이름 : 박현서\n",
            "번호 : 10, 이름 : 최성훈\n",
            "번호 : 11, 이름 : 한지호\n",
            "번호 : 12, 이름 : 홍유진\n"
          ],
          "name": "stdout"
        }
      ]
    },
    {
      "cell_type": "code",
      "metadata": {
        "id": "l300UICwj_yV",
        "outputId": "20b75384-0f10-4f8e-b82e-5f2add2f33cb",
        "colab": {
          "base_uri": "https://localhost:8080/"
        }
      },
      "source": [
        "# 퀴즈 4_공부용\r\n",
        "\r\n",
        "student = ['강은지', '김유정', '박현서', '최성훈', '홍유진', '박지호', '권윤일', '김채리', '한지호', '김진이', '김민호', '강채연']\r\n",
        "\r\n",
        "for i, name in enumerate(sorted(student)):   # 범위 내에서 숫자와 이름을 받아서\r\n",
        "  print('번호 : %d, 이름 : %s' %((i+1), name))   # 출력"
      ],
      "execution_count": 83,
      "outputs": [
        {
          "output_type": "stream",
          "text": [
            "번호 : 1, 이름 : 강은지\n",
            "번호 : 2, 이름 : 강채연\n",
            "번호 : 3, 이름 : 권윤일\n",
            "번호 : 4, 이름 : 김민호\n",
            "번호 : 5, 이름 : 김유정\n",
            "번호 : 6, 이름 : 김진이\n",
            "번호 : 7, 이름 : 김채리\n",
            "번호 : 8, 이름 : 박지호\n",
            "번호 : 9, 이름 : 박현서\n",
            "번호 : 10, 이름 : 최성훈\n",
            "번호 : 11, 이름 : 한지호\n",
            "번호 : 12, 이름 : 홍유진\n"
          ],
          "name": "stdout"
        }
      ]
    },
    {
      "cell_type": "code",
      "metadata": {
        "id": "-icOShhalZvw",
        "outputId": "2319cfdd-8afb-48a1-9efe-87a427501a94",
        "colab": {
          "base_uri": "https://localhost:8080/"
        }
      },
      "source": [
        "# 퀴즈 5\r\n",
        "\r\n",
        "name = ['a', 'b', 'c', 'd', 'e', 'f', 'g', 'h', 'i', 'j']  # 리스트 생성\r\n",
        "\r\n",
        "print(name.index('c'), end='') # 2 출력\r\n",
        "print(name.index('a'), end='') # 0 출력\r\n",
        "print(name.index('b'), end='') # 1 출력\r\n",
        "print(name.index('j'), end='') # 9 출력\r\n",
        "print(name.index('a'), end='') # 0 출력\r\n",
        "print(name.index('j'), end='') # 9 출력\r\n",
        "print(name.index('c'), end='') # 2 출력\r\n",
        "print(name.index('d'), end='') # 3 출력\r\n"
      ],
      "execution_count": 113,
      "outputs": [
        {
          "output_type": "stream",
          "text": [
            "20190923"
          ],
          "name": "stdout"
        }
      ]
    },
    {
      "cell_type": "code",
      "metadata": {
        "id": "EZyug2GHo7hb",
        "outputId": "1c0f373f-7da7-48b1-abdc-78ab8e42a1ca",
        "colab": {
          "base_uri": "https://localhost:8080/"
        }
      },
      "source": [
        "# 퀴즈 5_2\r\n",
        "\r\n",
        "print(ord('z') - ord('f'), end='')   # 아스키코드값 122 - 102 = 20\r\n",
        "print(ord('z') - ord('g'), end='')   # 122 - 103 = 19\r\n",
        "print(ord('z') - ord('z'), end='')   # 122 - 122 = 0\r\n",
        "print(ord('z') - ord('q'), end='')   # 122 - 113 = 9\r\n",
        "print(ord('z') - ord('c'), end='')   # 122 - 99 =23"
      ],
      "execution_count": 122,
      "outputs": [
        {
          "output_type": "stream",
          "text": [
            "20190923"
          ],
          "name": "stdout"
        }
      ]
    },
    {
      "cell_type": "code",
      "metadata": {
        "id": "EquiKh6Oybqc",
        "outputId": "ab50eab8-3507-422e-9d16-e21bd29b8d36",
        "colab": {
          "base_uri": "https://localhost:8080/"
        }
      },
      "source": [
        "# 퀴즈 5_3\r\n",
        "\r\n",
        "str = \"aacdddddddddeee\"\r\n",
        "\r\n",
        "print(str.count('a'), end='')\r\n",
        "print(str.count('b'), end='')\r\n",
        "print(str.count('c'), end='')\r\n",
        "print(str.count('d'), end='')\r\n",
        "print(str.count('b'), end='')\r\n",
        "print(str.count('d'), end='')\r\n",
        "print(str.count('a'), end='')\r\n",
        "print(str.count('e'), end='')"
      ],
      "execution_count": 127,
      "outputs": [
        {
          "output_type": "stream",
          "text": [
            "20190923"
          ],
          "name": "stdout"
        }
      ]
    },
    {
      "cell_type": "code",
      "metadata": {
        "id": "yYxHK9UX8N_2",
        "outputId": "ebaa5307-55f5-4801-dd1b-c044ed034e50",
        "colab": {
          "base_uri": "https://localhost:8080/"
        }
      },
      "source": [
        "# 퀴즈 6\r\n",
        "\r\n",
        "a = list(input().split())   # 입력된 문장을 단어별로 잘라서 리스트에 대입\r\n",
        "\r\n",
        "for i in range(len(a)):   # a의 길이 동안\r\n",
        "  print(a[i][0], end='')   # 각 리스트의 i번째의 0번째 요소 출력"
      ],
      "execution_count": 135,
      "outputs": [
        {
          "output_type": "stream",
          "text": [
            "Hello mr my yesterday\n",
            "Hmmy"
          ],
          "name": "stdout"
        }
      ]
    },
    {
      "cell_type": "code",
      "metadata": {
        "id": "kqZORRSMDyYZ",
        "outputId": "7e6b7536-bbb6-423e-99dd-481917737d1f",
        "colab": {
          "base_uri": "https://localhost:8080/"
        }
      },
      "source": [
        "# 퀴즈 7\r\n",
        "\r\n",
        "print('%d 자리수' %len(input()))   # 길이 출력"
      ],
      "execution_count": 139,
      "outputs": [
        {
          "output_type": "stream",
          "text": [
            "1234567896\n",
            "10 자리수\n"
          ],
          "name": "stdout"
        }
      ]
    },
    {
      "cell_type": "code",
      "metadata": {
        "id": "pqj6Q8RDRQUd",
        "outputId": "87705846-d90f-4144-a68e-175b37ea3de1",
        "colab": {
          "base_uri": "https://localhost:8080/"
        }
      },
      "source": [
        "# 퀴즈 8\r\n",
        "\r\n",
        "a = input()   # 문장 받음\r\n",
        "\r\n",
        "print(len(a.replace(' ', '')))   # 공백을 없앤 것의 길이 세기\r\n"
      ],
      "execution_count": 149,
      "outputs": [
        {
          "output_type": "stream",
          "text": [
            "공백을 제외한 글자수만을 세는 코드 테스트\n",
            "18\n"
          ],
          "name": "stdout"
        }
      ]
    },
    {
      "cell_type": "code",
      "metadata": {
        "id": "KMR_bazMfawX",
        "outputId": "eba8d578-446b-4507-d440-6b51d1ba1692",
        "colab": {
          "base_uri": "https://localhost:8080/",
          "height": 172
        }
      },
      "source": [
        "공백을 제외한\r\n",
        "글자수만을 세는 코드 테스트"
      ],
      "execution_count": 148,
      "outputs": [
        {
          "output_type": "error",
          "ename": "NameError",
          "evalue": "ignored",
          "traceback": [
            "\u001b[0;31m---------------------------------------------------------------------------\u001b[0m",
            "\u001b[0;31mNameError\u001b[0m                                 Traceback (most recent call last)",
            "\u001b[0;32m<ipython-input-148-2cda76fd82b7>\u001b[0m in \u001b[0;36m<module>\u001b[0;34m()\u001b[0m\n\u001b[0;32m----> 1\u001b[0;31m \u001b[0mㄱ\u001b[0m\u001b[0;34m\u001b[0m\u001b[0;34m\u001b[0m\u001b[0m\n\u001b[0m",
            "\u001b[0;31mNameError\u001b[0m: name 'ᄀ' is not defined"
          ]
        }
      ]
    },
    {
      "cell_type": "code",
      "metadata": {
        "id": "00h40BnJgZBd"
      },
      "source": [
        ""
      ],
      "execution_count": null,
      "outputs": []
    }
  ]
}