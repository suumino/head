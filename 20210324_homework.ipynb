{
  "nbformat": 4,
  "nbformat_minor": 0,
  "metadata": {
    "colab": {
      "name": "Colaboratory에 오신 것을 환영합니다",
      "provenance": [],
      "collapsed_sections": [],
      "include_colab_link": true
    },
    "kernelspec": {
      "display_name": "Python 3",
      "name": "python3"
    }
  },
  "cells": [
    {
      "cell_type": "markdown",
      "metadata": {
        "id": "view-in-github",
        "colab_type": "text"
      },
      "source": [
        "<a href=\"https://colab.research.google.com/github/suumino/head/blob/main/20210324_homework.ipynb\" target=\"_parent\"><img src=\"https://colab.research.google.com/assets/colab-badge.svg\" alt=\"Open In Colab\"/></a>"
      ]
    },
    {
      "cell_type": "code",
      "metadata": {
        "id": "Wh_N4a2ndJqp",
        "outputId": "6c510d29-acde-429b-d54d-31e264adba00",
        "colab": {
          "base_uri": "https://localhost:8080/"
        }
      },
      "source": [
        "# ALGORITHM HOMEWORK\n",
        "\n",
        "def func (numlist):                         # 함수 생성\n",
        "  ev = 0                                    # 짝수 변수 0\n",
        "  od = 0                                    # 홀수 변수 0\n",
        "  for i in numlist:                         # 외부로부터 오는 리스트로 작동하는 함수 생성\n",
        "    if i % 2 == 0:                          # 만약 짝수면\n",
        "      ev += 1                               # 짝수변수 +1\n",
        "    else:                                   # 홀수면\n",
        "      od += 1                               # 홀수변수 +1\n",
        "  print(numlist,'= ', end='')               # 리스트 출력\n",
        "  print(\"홀수 %s개, 짝수 %s개\" %(od, ev))   # 홀수, 짝수개수 출력\n",
        "\n",
        "func([3, 4, 5, 6, 7])                       # 값 입력\n",
        "func([12, 16, 22, 24, 29])                  # 값 입력 2\n",
        "func([41, 43, 45, 47, 49])                  # 값 입력 3\n",
        "\n"
      ],
      "execution_count": 11,
      "outputs": [
        {
          "output_type": "stream",
          "text": [
            "[3, 4, 5, 6, 7] = 홀수 3개, 짝수 2개\n",
            "[12, 16, 22, 24, 29] = 홀수 1개, 짝수 4개\n",
            "[41, 43, 45, 47, 49] = 홀수 5개, 짝수 0개\n"
          ],
          "name": "stdout"
        }
      ]
    },
    {
      "cell_type": "code",
      "metadata": {
        "id": "X-swCwO8g0JN"
      },
      "source": [
        ""
      ],
      "execution_count": null,
      "outputs": []
    }
  ]
}