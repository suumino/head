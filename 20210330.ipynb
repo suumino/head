{
  "nbformat": 4,
  "nbformat_minor": 0,
  "metadata": {
    "colab": {
      "name": "Colaboratory에 오신 것을 환영합니다",
      "provenance": [],
      "collapsed_sections": [],
      "include_colab_link": true
    },
    "kernelspec": {
      "display_name": "Python 3",
      "name": "python3"
    }
  },
  "cells": [
    {
      "cell_type": "markdown",
      "metadata": {
        "id": "view-in-github",
        "colab_type": "text"
      },
      "source": [
        "<a href=\"https://colab.research.google.com/github/suumino/head/blob/main/20210330.ipynb\" target=\"_parent\"><img src=\"https://colab.research.google.com/assets/colab-badge.svg\" alt=\"Open In Colab\"/></a>"
      ]
    },
    {
      "cell_type": "code",
      "metadata": {
        "id": "IL-uR29JTUWB",
        "outputId": "8ab62e5f-cb24-4b60-ae95-1f128cf5e4f9",
        "colab": {
          "base_uri": "https://localhost:8080/"
        }
      },
      "source": [
        "def is_prime(a):\n",
        "  b = range(2, a)\n",
        "  c = 0\n",
        "  d = True\n",
        "  for i in b:\n",
        "    if a % i == 0:\n",
        "      c += 1\n",
        "  if c >= 1:\n",
        "    d =  False\n",
        "  print('%s는 소수이다.' %a)\n",
        "  return d\n",
        "\n",
        "\n",
        "is_prime(31)\n"
      ],
      "execution_count": 3,
      "outputs": [
        {
          "output_type": "stream",
          "text": [
            "31는 소수이다.\n"
          ],
          "name": "stdout"
        },
        {
          "output_type": "execute_result",
          "data": {
            "text/plain": [
              "True"
            ]
          },
          "metadata": {
            "tags": []
          },
          "execution_count": 3
        }
      ]
    },
    {
      "cell_type": "code",
      "metadata": {
        "id": "C6YVHqdCU8R7",
        "outputId": "8bd7340f-5972-412a-cc3b-13d0f6037a1d",
        "colab": {
          "base_uri": "https://localhost:8080/"
        }
      },
      "source": [
        "def is_prime(a):\n",
        "  b = range(2, a)\n",
        "  for j in b:\n",
        "    c = 0\n",
        "    for i in b:\n",
        "      if j % i == 0:\n",
        "        c += 1\n",
        "    if c == 1:\n",
        "      print(j, end=' ')\n",
        "\n",
        "\n",
        "is_prime(31)"
      ],
      "execution_count": 15,
      "outputs": [
        {
          "output_type": "stream",
          "text": [
            "2 3 5 7 11 13 17 19 23 29 "
          ],
          "name": "stdout"
        }
      ]
    },
    {
      "cell_type": "code",
      "metadata": {
        "id": "zEOTxiBlVeEv"
      },
      "source": [
        ""
      ],
      "execution_count": null,
      "outputs": []
    }
  ]
}